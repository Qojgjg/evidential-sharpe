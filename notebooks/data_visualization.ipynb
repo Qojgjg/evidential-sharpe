{
 "cells": [
  {
   "cell_type": "code",
   "execution_count": 53,
   "metadata": {
    "collapsed": true,
    "pycharm": {
     "name": "#%%\n"
    }
   },
   "outputs": [],
   "source": [
    "\n",
    "import pandas as pd\n",
    "import numpy as np\n",
    "import matplotlib.pyplot as plt\n",
    "\n",
    "df_raw = pd.read_csv(\"D:/uncertainty_sharpe/evidential_deep_learning/data/BTCUSDT-1h-data.csv\", index_col=\"timestamp\")"
   ]
  },
  {
   "cell_type": "code",
   "execution_count": 17,
   "outputs": [
    {
     "name": "stdout",
     "output_type": "stream",
     "text": [
      "41514\n",
      "39354\n",
      "37194\n",
      "35034\n",
      "32874\n"
     ]
    },
    {
     "data": {
      "text/plain": "<Figure size 432x288 with 1 Axes>",
      "image/png": "[encoded data removed]"
     },
     "metadata": {
      "needs_background": "light"
     },
     "output_type": "display_data"
    }
   ],
   "source": [
    "n_fold_samples = 24 * 3 * 30\n",
    "n_total_samples = len(df_raw)\n",
    "n_fold = 4\n",
    "\n",
    "plt.figure()\n",
    "plt.plot(df_raw[\"close\"].values)\n",
    "for i in range(n_fold+1):\n",
    "    x = n_total_samples-i*n_fold_samples\n",
    "    print(x)\n",
    "    plt.vlines(x=x, ymin=0, ymax=70000, colors=\"red\")\n",
    "plt.show()"
   ],
   "metadata": {
    "collapsed": false,
    "pycharm": {
     "name": "#%%\n"
    }
   }
  },
  {
   "cell_type": "code",
   "execution_count": null,
   "outputs": [],
   "source": [
    "df = pd.read_csv(\"D:/Juho/portfolio_optimization/market_data/btc_15052020_31122021/btc_2h.csv\", index_col=\"timestamp\")\n",
    "# print(df)\n",
    "\n",
    "# plt.figure()\n",
    "# plt.plot(df_btc_close.values)\n",
    "# plt.vlines(x=4976, ymin=0, ymax=70000, colors=\"red\")\n",
    "# plt.vlines(x=5696, ymin=0, ymax=70000, colors=\"red\")\n",
    "# plt.vlines(x=6416, ymin=0, ymax=70000, color=\"red\")\n",
    "# plt.vlines(x=7136, ymin=0, ymax=70000, color=\"green\")\n",
    "#\n",
    "# plt.figure()\n",
    "# plt.plot(df_btcup_close.values)\n",
    "# plt.vlines(x=4976, ymin=0, ymax=200, colors=\"red\")\n",
    "# plt.vlines(x=5696, ymin=0, ymax=200, colors=\"red\")\n",
    "# plt.vlines(x=6416, ymin=0, ymax=200, color=\"red\")\n",
    "# plt.vlines(x=7136, ymin=0, ymax=200, color=\"green\")\n",
    "#\n",
    "# plt.figure()\n",
    "# plt.plot(np.log(df_btcdown_close.values))\n",
    "# plt.vlines(x=4976, ymin=-5, ymax=1, colors=\"red\")\n",
    "# plt.vlines(x=5696, ymin=-5, ymax=1, colors=\"red\")\n",
    "# plt.vlines(x=6416, ymin=-5, ymax=1, color=\"red\")\n",
    "# plt.vlines(x=7136, ymin=-5, ymax=1, color=\"green\")\n",
    "#\n",
    "# plt.figure()\n",
    "# plt.plot(df_btcdown_close[6416:7136])"
   ],
   "metadata": {
    "collapsed": false,
    "pycharm": {
     "name": "#%%\n"
    }
   }
  }
 ],
 "metadata": {
  "kernelspec": {
   "display_name": "Python 3",
   "language": "python",
   "name": "python3"
  },
  "language_info": {
   "codemirror_mode": {
    "name": "ipython",
    "version": 2
   },
   "file_extension": ".py",
   "mimetype": "text/x-python",
   "name": "python",
   "nbconvert_exporter": "python",
   "pygments_lexer": "ipython2",
   "version": "2.7.6"
  }
 },
 "nbformat": 4,
 "nbformat_minor": 0
}